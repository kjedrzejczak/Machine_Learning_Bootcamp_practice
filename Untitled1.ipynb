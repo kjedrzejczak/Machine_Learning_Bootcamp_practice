{
  "nbformat": 4,
  "nbformat_minor": 0,
  "metadata": {
    "colab": {
      "provenance": [],
      "authorship_tag": "ABX9TyNiBil+w93QNHeOgR5Ug7ZG",
      "include_colab_link": true
    },
    "kernelspec": {
      "name": "python3",
      "display_name": "Python 3"
    },
    "language_info": {
      "name": "python"
    }
  },
  "cells": [
    {
      "cell_type": "markdown",
      "metadata": {
        "id": "view-in-github",
        "colab_type": "text"
      },
      "source": [
        "<a href=\"https://colab.research.google.com/github/kjedrzejczak/Machine_Learning_Bootcamp_practice/blob/main/Untitled1.ipynb\" target=\"_parent\"><img src=\"https://colab.research.google.com/assets/colab-badge.svg\" alt=\"Open In Colab\"/></a>"
      ]
    },
    {
      "cell_type": "code",
      "execution_count": 8,
      "metadata": {
        "colab": {
          "base_uri": "https://localhost:8080/"
        },
        "id": "utZ85Y4PbZ9j",
        "outputId": "20737073-2e62-4099-ea3a-8294eaae325e"
      },
      "outputs": [
        {
          "output_type": "stream",
          "name": "stdout",
          "text": [
            "1.23.5\n",
            "1.5.3\n",
            "1.2.2\n",
            "3.7.1\n",
            "0.13.1\n"
          ]
        }
      ],
      "source": [
        "import numpy as np\n",
        "import pandas as pd\n",
        "import sklearn as sk\n",
        "import matplotlib as plt\n",
        "import seaborn as sns\n",
        "\n",
        "print(np.__version__)\n",
        "print(pd.__version__)\n",
        "print(sk.__version__)\n",
        "print(plt.__version__)\n",
        "print(sns.__version__)\n",
        "versions = ['1.23.5', '1.5.3', '1.2.2', '3.7.1', '0.13.1']"
      ]
    }
  ]
}