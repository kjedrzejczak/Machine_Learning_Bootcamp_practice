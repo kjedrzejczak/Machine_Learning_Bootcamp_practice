{
  "nbformat": 4,
  "nbformat_minor": 0,
  "metadata": {
    "colab": {
      "provenance": [],
      "authorship_tag": "ABX9TyNnzRlFcUPOtFdFSIfxwPJN",
      "include_colab_link": true
    },
    "kernelspec": {
      "name": "python3",
      "display_name": "Python 3"
    },
    "language_info": {
      "name": "python"
    }
  },
  "cells": [
    {
      "cell_type": "markdown",
      "metadata": {
        "id": "view-in-github",
        "colab_type": "text"
      },
      "source": [
        "<a href=\"https://colab.research.google.com/github/kjedrzejczak/Machine_Learning_Bootcamp_practice/blob/main/10_regression_metrics.ipynb\" target=\"_parent\"><img src=\"https://colab.research.google.com/assets/colab-badge.svg\" alt=\"Open In Colab\"/></a>"
      ]
    },
    {
      "cell_type": "code",
      "execution_count": 1,
      "metadata": {
        "id": "hCc22JAHJzAx"
      },
      "outputs": [],
      "source": [
        "import numpy as np\n",
        "import pandas as pd\n",
        "import plotly.express as px\n",
        "import plotly.graph_objects as go\n",
        "\n",
        "np.random.seed(42)"
      ]
    },
    {
      "cell_type": "code",
      "source": [
        "y_true = 100 + 20 * np.random.randn(50)\n",
        "y_true"
      ],
      "metadata": {
        "colab": {
          "base_uri": "https://localhost:8080/"
        },
        "id": "TyBXYivgKLjL",
        "outputId": "a9ebc565-79a4-4385-d4d0-0275d6cbbcbc"
      },
      "execution_count": 2,
      "outputs": [
        {
          "output_type": "execute_result",
          "data": {
            "text/plain": [
              "array([109.93428306,  97.23471398, 112.95377076, 130.46059713,\n",
              "        95.31693251,  95.31726086, 131.58425631, 115.34869458,\n",
              "        90.61051228, 110.85120087,  90.73164614,  90.68540493,\n",
              "       104.83924543,  61.73439511,  65.50164335,  88.75424942,\n",
              "        79.74337759, 106.28494665,  81.83951849,  71.75392597,\n",
              "       129.31297538,  95.48447399, 101.35056409,  71.50503628,\n",
              "        89.11234551, 102.21845179,  76.98012845, 107.51396037,\n",
              "        87.9872262 ,  94.166125  ,  87.96586776, 137.04556369,\n",
              "        99.73005551,  78.84578142, 116.45089824,  75.583127  ,\n",
              "       104.1772719 ,  60.80659752,  73.43627902, 103.93722472,\n",
              "       114.7693316 , 103.42736562,  97.68703435,  93.97792609,\n",
              "        70.42956019,  85.60311583,  90.78722458, 121.14244452,\n",
              "       106.87236579,  64.73919689])"
            ]
          },
          "metadata": {},
          "execution_count": 2
        }
      ]
    },
    {
      "cell_type": "code",
      "source": [
        "y_pred = y_true + 10 * np.random.randn(50)\n",
        "y_pred"
      ],
      "metadata": {
        "colab": {
          "base_uri": "https://localhost:8080/"
        },
        "id": "w4Nf3CSIKZ_J",
        "outputId": "40d54d4d-d102-460c-e562-202aa3f34606"
      },
      "execution_count": 3,
      "outputs": [
        {
          "output_type": "execute_result",
          "data": {
            "text/plain": [
              "array([113.17512275,  93.38389117, 106.18455076, 136.57736002,\n",
              "       105.62692773, 104.63006205, 123.19208108, 112.25657082,\n",
              "        93.9231466 , 120.60665214,  85.93990377,  88.82881516,\n",
              "        93.77589569,  49.77232887,  73.62690157, 102.3166497 ,\n",
              "        79.02327638, 116.32027563,  85.45587874,  65.30272843,\n",
              "       132.92693143, 110.86483965, 100.9923037 ,  87.15147283,\n",
              "        62.91489447, 110.43747684,  77.85059913, 104.52388686,\n",
              "        88.90483397,  74.29043586,  85.76914888, 140.61668941,\n",
              "       114.50899595,  73.66307924, 108.36596221,  70.56555656,\n",
              "       113.33129308,  64.09410862,  68.13867698, 109.06989905,\n",
              "       115.74010709, 113.11381553,  90.66650341,  90.70130462,\n",
              "        66.50847866,  70.96796635,  93.74842735, 123.75299725,\n",
              "       106.92350036,  62.39332556])"
            ]
          },
          "metadata": {},
          "execution_count": 3
        }
      ]
    },
    {
      "cell_type": "code",
      "source": [
        "results = pd.DataFrame({'y_true' : y_true, 'y_pred' : y_pred})\n",
        "results.head()"
      ],
      "metadata": {
        "colab": {
          "base_uri": "https://localhost:8080/",
          "height": 206
        },
        "id": "FAlt3sNZKxUA",
        "outputId": "0fb2fe5e-afcb-459a-d39a-fe120ae297c6"
      },
      "execution_count": 4,
      "outputs": [
        {
          "output_type": "execute_result",
          "data": {
            "text/plain": [
              "       y_true      y_pred\n",
              "0  109.934283  113.175123\n",
              "1   97.234714   93.383891\n",
              "2  112.953771  106.184551\n",
              "3  130.460597  136.577360\n",
              "4   95.316933  105.626928"
            ],
            "text/html": [
              "\n",
              "  <div id=\"df-f51d29ba-acda-4600-a518-51ea7f2945c8\" class=\"colab-df-container\">\n",
              "    <div>\n",
              "<style scoped>\n",
              "    .dataframe tbody tr th:only-of-type {\n",
              "        vertical-align: middle;\n",
              "    }\n",
              "\n",
              "    .dataframe tbody tr th {\n",
              "        vertical-align: top;\n",
              "    }\n",
              "\n",
              "    .dataframe thead th {\n",
              "        text-align: right;\n",
              "    }\n",
              "</style>\n",
              "<table border=\"1\" class=\"dataframe\">\n",
              "  <thead>\n",
              "    <tr style=\"text-align: right;\">\n",
              "      <th></th>\n",
              "      <th>y_true</th>\n",
              "      <th>y_pred</th>\n",
              "    </tr>\n",
              "  </thead>\n",
              "  <tbody>\n",
              "    <tr>\n",
              "      <th>0</th>\n",
              "      <td>109.934283</td>\n",
              "      <td>113.175123</td>\n",
              "    </tr>\n",
              "    <tr>\n",
              "      <th>1</th>\n",
              "      <td>97.234714</td>\n",
              "      <td>93.383891</td>\n",
              "    </tr>\n",
              "    <tr>\n",
              "      <th>2</th>\n",
              "      <td>112.953771</td>\n",
              "      <td>106.184551</td>\n",
              "    </tr>\n",
              "    <tr>\n",
              "      <th>3</th>\n",
              "      <td>130.460597</td>\n",
              "      <td>136.577360</td>\n",
              "    </tr>\n",
              "    <tr>\n",
              "      <th>4</th>\n",
              "      <td>95.316933</td>\n",
              "      <td>105.626928</td>\n",
              "    </tr>\n",
              "  </tbody>\n",
              "</table>\n",
              "</div>\n",
              "    <div class=\"colab-df-buttons\">\n",
              "\n",
              "  <div class=\"colab-df-container\">\n",
              "    <button class=\"colab-df-convert\" onclick=\"convertToInteractive('df-f51d29ba-acda-4600-a518-51ea7f2945c8')\"\n",
              "            title=\"Convert this dataframe to an interactive table.\"\n",
              "            style=\"display:none;\">\n",
              "\n",
              "  <svg xmlns=\"http://www.w3.org/2000/svg\" height=\"24px\" viewBox=\"0 -960 960 960\">\n",
              "    <path d=\"M120-120v-720h720v720H120Zm60-500h600v-160H180v160Zm220 220h160v-160H400v160Zm0 220h160v-160H400v160ZM180-400h160v-160H180v160Zm440 0h160v-160H620v160ZM180-180h160v-160H180v160Zm440 0h160v-160H620v160Z\"/>\n",
              "  </svg>\n",
              "    </button>\n",
              "\n",
              "  <style>\n",
              "    .colab-df-container {\n",
              "      display:flex;\n",
              "      gap: 12px;\n",
              "    }\n",
              "\n",
              "    .colab-df-convert {\n",
              "      background-color: #E8F0FE;\n",
              "      border: none;\n",
              "      border-radius: 50%;\n",
              "      cursor: pointer;\n",
              "      display: none;\n",
              "      fill: #1967D2;\n",
              "      height: 32px;\n",
              "      padding: 0 0 0 0;\n",
              "      width: 32px;\n",
              "    }\n",
              "\n",
              "    .colab-df-convert:hover {\n",
              "      background-color: #E2EBFA;\n",
              "      box-shadow: 0px 1px 2px rgba(60, 64, 67, 0.3), 0px 1px 3px 1px rgba(60, 64, 67, 0.15);\n",
              "      fill: #174EA6;\n",
              "    }\n",
              "\n",
              "    .colab-df-buttons div {\n",
              "      margin-bottom: 4px;\n",
              "    }\n",
              "\n",
              "    [theme=dark] .colab-df-convert {\n",
              "      background-color: #3B4455;\n",
              "      fill: #D2E3FC;\n",
              "    }\n",
              "\n",
              "    [theme=dark] .colab-df-convert:hover {\n",
              "      background-color: #434B5C;\n",
              "      box-shadow: 0px 1px 3px 1px rgba(0, 0, 0, 0.15);\n",
              "      filter: drop-shadow(0px 1px 2px rgba(0, 0, 0, 0.3));\n",
              "      fill: #FFFFFF;\n",
              "    }\n",
              "  </style>\n",
              "\n",
              "    <script>\n",
              "      const buttonEl =\n",
              "        document.querySelector('#df-f51d29ba-acda-4600-a518-51ea7f2945c8 button.colab-df-convert');\n",
              "      buttonEl.style.display =\n",
              "        google.colab.kernel.accessAllowed ? 'block' : 'none';\n",
              "\n",
              "      async function convertToInteractive(key) {\n",
              "        const element = document.querySelector('#df-f51d29ba-acda-4600-a518-51ea7f2945c8');\n",
              "        const dataTable =\n",
              "          await google.colab.kernel.invokeFunction('convertToInteractive',\n",
              "                                                    [key], {});\n",
              "        if (!dataTable) return;\n",
              "\n",
              "        const docLinkHtml = 'Like what you see? Visit the ' +\n",
              "          '<a target=\"_blank\" href=https://colab.research.google.com/notebooks/data_table.ipynb>data table notebook</a>'\n",
              "          + ' to learn more about interactive tables.';\n",
              "        element.innerHTML = '';\n",
              "        dataTable['output_type'] = 'display_data';\n",
              "        await google.colab.output.renderOutput(dataTable, element);\n",
              "        const docLink = document.createElement('div');\n",
              "        docLink.innerHTML = docLinkHtml;\n",
              "        element.appendChild(docLink);\n",
              "      }\n",
              "    </script>\n",
              "  </div>\n",
              "\n",
              "\n",
              "<div id=\"df-7f9d2b77-10d7-4ec8-a85a-d9218e397518\">\n",
              "  <button class=\"colab-df-quickchart\" onclick=\"quickchart('df-7f9d2b77-10d7-4ec8-a85a-d9218e397518')\"\n",
              "            title=\"Suggest charts\"\n",
              "            style=\"display:none;\">\n",
              "\n",
              "<svg xmlns=\"http://www.w3.org/2000/svg\" height=\"24px\"viewBox=\"0 0 24 24\"\n",
              "     width=\"24px\">\n",
              "    <g>\n",
              "        <path d=\"M19 3H5c-1.1 0-2 .9-2 2v14c0 1.1.9 2 2 2h14c1.1 0 2-.9 2-2V5c0-1.1-.9-2-2-2zM9 17H7v-7h2v7zm4 0h-2V7h2v10zm4 0h-2v-4h2v4z\"/>\n",
              "    </g>\n",
              "</svg>\n",
              "  </button>\n",
              "\n",
              "<style>\n",
              "  .colab-df-quickchart {\n",
              "      --bg-color: #E8F0FE;\n",
              "      --fill-color: #1967D2;\n",
              "      --hover-bg-color: #E2EBFA;\n",
              "      --hover-fill-color: #174EA6;\n",
              "      --disabled-fill-color: #AAA;\n",
              "      --disabled-bg-color: #DDD;\n",
              "  }\n",
              "\n",
              "  [theme=dark] .colab-df-quickchart {\n",
              "      --bg-color: #3B4455;\n",
              "      --fill-color: #D2E3FC;\n",
              "      --hover-bg-color: #434B5C;\n",
              "      --hover-fill-color: #FFFFFF;\n",
              "      --disabled-bg-color: #3B4455;\n",
              "      --disabled-fill-color: #666;\n",
              "  }\n",
              "\n",
              "  .colab-df-quickchart {\n",
              "    background-color: var(--bg-color);\n",
              "    border: none;\n",
              "    border-radius: 50%;\n",
              "    cursor: pointer;\n",
              "    display: none;\n",
              "    fill: var(--fill-color);\n",
              "    height: 32px;\n",
              "    padding: 0;\n",
              "    width: 32px;\n",
              "  }\n",
              "\n",
              "  .colab-df-quickchart:hover {\n",
              "    background-color: var(--hover-bg-color);\n",
              "    box-shadow: 0 1px 2px rgba(60, 64, 67, 0.3), 0 1px 3px 1px rgba(60, 64, 67, 0.15);\n",
              "    fill: var(--button-hover-fill-color);\n",
              "  }\n",
              "\n",
              "  .colab-df-quickchart-complete:disabled,\n",
              "  .colab-df-quickchart-complete:disabled:hover {\n",
              "    background-color: var(--disabled-bg-color);\n",
              "    fill: var(--disabled-fill-color);\n",
              "    box-shadow: none;\n",
              "  }\n",
              "\n",
              "  .colab-df-spinner {\n",
              "    border: 2px solid var(--fill-color);\n",
              "    border-color: transparent;\n",
              "    border-bottom-color: var(--fill-color);\n",
              "    animation:\n",
              "      spin 1s steps(1) infinite;\n",
              "  }\n",
              "\n",
              "  @keyframes spin {\n",
              "    0% {\n",
              "      border-color: transparent;\n",
              "      border-bottom-color: var(--fill-color);\n",
              "      border-left-color: var(--fill-color);\n",
              "    }\n",
              "    20% {\n",
              "      border-color: transparent;\n",
              "      border-left-color: var(--fill-color);\n",
              "      border-top-color: var(--fill-color);\n",
              "    }\n",
              "    30% {\n",
              "      border-color: transparent;\n",
              "      border-left-color: var(--fill-color);\n",
              "      border-top-color: var(--fill-color);\n",
              "      border-right-color: var(--fill-color);\n",
              "    }\n",
              "    40% {\n",
              "      border-color: transparent;\n",
              "      border-right-color: var(--fill-color);\n",
              "      border-top-color: var(--fill-color);\n",
              "    }\n",
              "    60% {\n",
              "      border-color: transparent;\n",
              "      border-right-color: var(--fill-color);\n",
              "    }\n",
              "    80% {\n",
              "      border-color: transparent;\n",
              "      border-right-color: var(--fill-color);\n",
              "      border-bottom-color: var(--fill-color);\n",
              "    }\n",
              "    90% {\n",
              "      border-color: transparent;\n",
              "      border-bottom-color: var(--fill-color);\n",
              "    }\n",
              "  }\n",
              "</style>\n",
              "\n",
              "  <script>\n",
              "    async function quickchart(key) {\n",
              "      const quickchartButtonEl =\n",
              "        document.querySelector('#' + key + ' button');\n",
              "      quickchartButtonEl.disabled = true;  // To prevent multiple clicks.\n",
              "      quickchartButtonEl.classList.add('colab-df-spinner');\n",
              "      try {\n",
              "        const charts = await google.colab.kernel.invokeFunction(\n",
              "            'suggestCharts', [key], {});\n",
              "      } catch (error) {\n",
              "        console.error('Error during call to suggestCharts:', error);\n",
              "      }\n",
              "      quickchartButtonEl.classList.remove('colab-df-spinner');\n",
              "      quickchartButtonEl.classList.add('colab-df-quickchart-complete');\n",
              "    }\n",
              "    (() => {\n",
              "      let quickchartButtonEl =\n",
              "        document.querySelector('#df-7f9d2b77-10d7-4ec8-a85a-d9218e397518 button');\n",
              "      quickchartButtonEl.style.display =\n",
              "        google.colab.kernel.accessAllowed ? 'block' : 'none';\n",
              "    })();\n",
              "  </script>\n",
              "</div>\n",
              "    </div>\n",
              "  </div>\n"
            ]
          },
          "metadata": {},
          "execution_count": 4
        }
      ]
    },
    {
      "cell_type": "code",
      "source": [
        "results['error'] = results['y_true'] - results['y_pred']\n",
        "results['error_squared'] = results['error'] ** 2\n",
        "results.head()"
      ],
      "metadata": {
        "colab": {
          "base_uri": "https://localhost:8080/",
          "height": 206
        },
        "id": "icD6t6LILRQ4",
        "outputId": "c40d9603-5bf4-4a9a-e2d9-22225ffd0407"
      },
      "execution_count": 5,
      "outputs": [
        {
          "output_type": "execute_result",
          "data": {
            "text/plain": [
              "       y_true      y_pred      error  error_squared\n",
              "0  109.934283  113.175123  -3.240840      10.503042\n",
              "1   97.234714   93.383891   3.850823      14.828836\n",
              "2  112.953771  106.184551   6.769220      45.822339\n",
              "3  130.460597  136.577360  -6.116763      37.414788\n",
              "4   95.316933  105.626928 -10.309995     106.296002"
            ],
            "text/html": [
              "\n",
              "  <div id=\"df-310cefa4-58da-47e1-8bed-4ee9a2f8047b\" class=\"colab-df-container\">\n",
              "    <div>\n",
              "<style scoped>\n",
              "    .dataframe tbody tr th:only-of-type {\n",
              "        vertical-align: middle;\n",
              "    }\n",
              "\n",
              "    .dataframe tbody tr th {\n",
              "        vertical-align: top;\n",
              "    }\n",
              "\n",
              "    .dataframe thead th {\n",
              "        text-align: right;\n",
              "    }\n",
              "</style>\n",
              "<table border=\"1\" class=\"dataframe\">\n",
              "  <thead>\n",
              "    <tr style=\"text-align: right;\">\n",
              "      <th></th>\n",
              "      <th>y_true</th>\n",
              "      <th>y_pred</th>\n",
              "      <th>error</th>\n",
              "      <th>error_squared</th>\n",
              "    </tr>\n",
              "  </thead>\n",
              "  <tbody>\n",
              "    <tr>\n",
              "      <th>0</th>\n",
              "      <td>109.934283</td>\n",
              "      <td>113.175123</td>\n",
              "      <td>-3.240840</td>\n",
              "      <td>10.503042</td>\n",
              "    </tr>\n",
              "    <tr>\n",
              "      <th>1</th>\n",
              "      <td>97.234714</td>\n",
              "      <td>93.383891</td>\n",
              "      <td>3.850823</td>\n",
              "      <td>14.828836</td>\n",
              "    </tr>\n",
              "    <tr>\n",
              "      <th>2</th>\n",
              "      <td>112.953771</td>\n",
              "      <td>106.184551</td>\n",
              "      <td>6.769220</td>\n",
              "      <td>45.822339</td>\n",
              "    </tr>\n",
              "    <tr>\n",
              "      <th>3</th>\n",
              "      <td>130.460597</td>\n",
              "      <td>136.577360</td>\n",
              "      <td>-6.116763</td>\n",
              "      <td>37.414788</td>\n",
              "    </tr>\n",
              "    <tr>\n",
              "      <th>4</th>\n",
              "      <td>95.316933</td>\n",
              "      <td>105.626928</td>\n",
              "      <td>-10.309995</td>\n",
              "      <td>106.296002</td>\n",
              "    </tr>\n",
              "  </tbody>\n",
              "</table>\n",
              "</div>\n",
              "    <div class=\"colab-df-buttons\">\n",
              "\n",
              "  <div class=\"colab-df-container\">\n",
              "    <button class=\"colab-df-convert\" onclick=\"convertToInteractive('df-310cefa4-58da-47e1-8bed-4ee9a2f8047b')\"\n",
              "            title=\"Convert this dataframe to an interactive table.\"\n",
              "            style=\"display:none;\">\n",
              "\n",
              "  <svg xmlns=\"http://www.w3.org/2000/svg\" height=\"24px\" viewBox=\"0 -960 960 960\">\n",
              "    <path d=\"M120-120v-720h720v720H120Zm60-500h600v-160H180v160Zm220 220h160v-160H400v160Zm0 220h160v-160H400v160ZM180-400h160v-160H180v160Zm440 0h160v-160H620v160ZM180-180h160v-160H180v160Zm440 0h160v-160H620v160Z\"/>\n",
              "  </svg>\n",
              "    </button>\n",
              "\n",
              "  <style>\n",
              "    .colab-df-container {\n",
              "      display:flex;\n",
              "      gap: 12px;\n",
              "    }\n",
              "\n",
              "    .colab-df-convert {\n",
              "      background-color: #E8F0FE;\n",
              "      border: none;\n",
              "      border-radius: 50%;\n",
              "      cursor: pointer;\n",
              "      display: none;\n",
              "      fill: #1967D2;\n",
              "      height: 32px;\n",
              "      padding: 0 0 0 0;\n",
              "      width: 32px;\n",
              "    }\n",
              "\n",
              "    .colab-df-convert:hover {\n",
              "      background-color: #E2EBFA;\n",
              "      box-shadow: 0px 1px 2px rgba(60, 64, 67, 0.3), 0px 1px 3px 1px rgba(60, 64, 67, 0.15);\n",
              "      fill: #174EA6;\n",
              "    }\n",
              "\n",
              "    .colab-df-buttons div {\n",
              "      margin-bottom: 4px;\n",
              "    }\n",
              "\n",
              "    [theme=dark] .colab-df-convert {\n",
              "      background-color: #3B4455;\n",
              "      fill: #D2E3FC;\n",
              "    }\n",
              "\n",
              "    [theme=dark] .colab-df-convert:hover {\n",
              "      background-color: #434B5C;\n",
              "      box-shadow: 0px 1px 3px 1px rgba(0, 0, 0, 0.15);\n",
              "      filter: drop-shadow(0px 1px 2px rgba(0, 0, 0, 0.3));\n",
              "      fill: #FFFFFF;\n",
              "    }\n",
              "  </style>\n",
              "\n",
              "    <script>\n",
              "      const buttonEl =\n",
              "        document.querySelector('#df-310cefa4-58da-47e1-8bed-4ee9a2f8047b button.colab-df-convert');\n",
              "      buttonEl.style.display =\n",
              "        google.colab.kernel.accessAllowed ? 'block' : 'none';\n",
              "\n",
              "      async function convertToInteractive(key) {\n",
              "        const element = document.querySelector('#df-310cefa4-58da-47e1-8bed-4ee9a2f8047b');\n",
              "        const dataTable =\n",
              "          await google.colab.kernel.invokeFunction('convertToInteractive',\n",
              "                                                    [key], {});\n",
              "        if (!dataTable) return;\n",
              "\n",
              "        const docLinkHtml = 'Like what you see? Visit the ' +\n",
              "          '<a target=\"_blank\" href=https://colab.research.google.com/notebooks/data_table.ipynb>data table notebook</a>'\n",
              "          + ' to learn more about interactive tables.';\n",
              "        element.innerHTML = '';\n",
              "        dataTable['output_type'] = 'display_data';\n",
              "        await google.colab.output.renderOutput(dataTable, element);\n",
              "        const docLink = document.createElement('div');\n",
              "        docLink.innerHTML = docLinkHtml;\n",
              "        element.appendChild(docLink);\n",
              "      }\n",
              "    </script>\n",
              "  </div>\n",
              "\n",
              "\n",
              "<div id=\"df-7311b039-e063-4156-8f4d-2914bff5a111\">\n",
              "  <button class=\"colab-df-quickchart\" onclick=\"quickchart('df-7311b039-e063-4156-8f4d-2914bff5a111')\"\n",
              "            title=\"Suggest charts\"\n",
              "            style=\"display:none;\">\n",
              "\n",
              "<svg xmlns=\"http://www.w3.org/2000/svg\" height=\"24px\"viewBox=\"0 0 24 24\"\n",
              "     width=\"24px\">\n",
              "    <g>\n",
              "        <path d=\"M19 3H5c-1.1 0-2 .9-2 2v14c0 1.1.9 2 2 2h14c1.1 0 2-.9 2-2V5c0-1.1-.9-2-2-2zM9 17H7v-7h2v7zm4 0h-2V7h2v10zm4 0h-2v-4h2v4z\"/>\n",
              "    </g>\n",
              "</svg>\n",
              "  </button>\n",
              "\n",
              "<style>\n",
              "  .colab-df-quickchart {\n",
              "      --bg-color: #E8F0FE;\n",
              "      --fill-color: #1967D2;\n",
              "      --hover-bg-color: #E2EBFA;\n",
              "      --hover-fill-color: #174EA6;\n",
              "      --disabled-fill-color: #AAA;\n",
              "      --disabled-bg-color: #DDD;\n",
              "  }\n",
              "\n",
              "  [theme=dark] .colab-df-quickchart {\n",
              "      --bg-color: #3B4455;\n",
              "      --fill-color: #D2E3FC;\n",
              "      --hover-bg-color: #434B5C;\n",
              "      --hover-fill-color: #FFFFFF;\n",
              "      --disabled-bg-color: #3B4455;\n",
              "      --disabled-fill-color: #666;\n",
              "  }\n",
              "\n",
              "  .colab-df-quickchart {\n",
              "    background-color: var(--bg-color);\n",
              "    border: none;\n",
              "    border-radius: 50%;\n",
              "    cursor: pointer;\n",
              "    display: none;\n",
              "    fill: var(--fill-color);\n",
              "    height: 32px;\n",
              "    padding: 0;\n",
              "    width: 32px;\n",
              "  }\n",
              "\n",
              "  .colab-df-quickchart:hover {\n",
              "    background-color: var(--hover-bg-color);\n",
              "    box-shadow: 0 1px 2px rgba(60, 64, 67, 0.3), 0 1px 3px 1px rgba(60, 64, 67, 0.15);\n",
              "    fill: var(--button-hover-fill-color);\n",
              "  }\n",
              "\n",
              "  .colab-df-quickchart-complete:disabled,\n",
              "  .colab-df-quickchart-complete:disabled:hover {\n",
              "    background-color: var(--disabled-bg-color);\n",
              "    fill: var(--disabled-fill-color);\n",
              "    box-shadow: none;\n",
              "  }\n",
              "\n",
              "  .colab-df-spinner {\n",
              "    border: 2px solid var(--fill-color);\n",
              "    border-color: transparent;\n",
              "    border-bottom-color: var(--fill-color);\n",
              "    animation:\n",
              "      spin 1s steps(1) infinite;\n",
              "  }\n",
              "\n",
              "  @keyframes spin {\n",
              "    0% {\n",
              "      border-color: transparent;\n",
              "      border-bottom-color: var(--fill-color);\n",
              "      border-left-color: var(--fill-color);\n",
              "    }\n",
              "    20% {\n",
              "      border-color: transparent;\n",
              "      border-left-color: var(--fill-color);\n",
              "      border-top-color: var(--fill-color);\n",
              "    }\n",
              "    30% {\n",
              "      border-color: transparent;\n",
              "      border-left-color: var(--fill-color);\n",
              "      border-top-color: var(--fill-color);\n",
              "      border-right-color: var(--fill-color);\n",
              "    }\n",
              "    40% {\n",
              "      border-color: transparent;\n",
              "      border-right-color: var(--fill-color);\n",
              "      border-top-color: var(--fill-color);\n",
              "    }\n",
              "    60% {\n",
              "      border-color: transparent;\n",
              "      border-right-color: var(--fill-color);\n",
              "    }\n",
              "    80% {\n",
              "      border-color: transparent;\n",
              "      border-right-color: var(--fill-color);\n",
              "      border-bottom-color: var(--fill-color);\n",
              "    }\n",
              "    90% {\n",
              "      border-color: transparent;\n",
              "      border-bottom-color: var(--fill-color);\n",
              "    }\n",
              "  }\n",
              "</style>\n",
              "\n",
              "  <script>\n",
              "    async function quickchart(key) {\n",
              "      const quickchartButtonEl =\n",
              "        document.querySelector('#' + key + ' button');\n",
              "      quickchartButtonEl.disabled = true;  // To prevent multiple clicks.\n",
              "      quickchartButtonEl.classList.add('colab-df-spinner');\n",
              "      try {\n",
              "        const charts = await google.colab.kernel.invokeFunction(\n",
              "            'suggestCharts', [key], {});\n",
              "      } catch (error) {\n",
              "        console.error('Error during call to suggestCharts:', error);\n",
              "      }\n",
              "      quickchartButtonEl.classList.remove('colab-df-spinner');\n",
              "      quickchartButtonEl.classList.add('colab-df-quickchart-complete');\n",
              "    }\n",
              "    (() => {\n",
              "      let quickchartButtonEl =\n",
              "        document.querySelector('#df-7311b039-e063-4156-8f4d-2914bff5a111 button');\n",
              "      quickchartButtonEl.style.display =\n",
              "        google.colab.kernel.accessAllowed ? 'block' : 'none';\n",
              "    })();\n",
              "  </script>\n",
              "</div>\n",
              "    </div>\n",
              "  </div>\n"
            ]
          },
          "metadata": {},
          "execution_count": 5
        }
      ]
    },
    {
      "cell_type": "code",
      "source": [
        "print(f\"MAE = mean absolute error: {results['error'].abs().sum() / len(results):.2f}\")"
      ],
      "metadata": {
        "colab": {
          "base_uri": "https://localhost:8080/"
        },
        "id": "yu9LQETHLh6x",
        "outputId": "9d19831e-67d5-4167-964e-4ac1d3580a76"
      },
      "execution_count": 6,
      "outputs": [
        {
          "output_type": "stream",
          "name": "stdout",
          "text": [
            "MAE = mean absolute error: 6.79\n"
          ]
        }
      ]
    },
    {
      "cell_type": "code",
      "source": [
        "print(f\"MSE = mean squared error: {results['error_squared'].sum() / len(results):.2f}\")"
      ],
      "metadata": {
        "colab": {
          "base_uri": "https://localhost:8080/"
        },
        "id": "E55hvtEhMGyh",
        "outputId": "13764bd7-aa9c-4897-99c9-bc08f2f22390"
      },
      "execution_count": 7,
      "outputs": [
        {
          "output_type": "stream",
          "name": "stdout",
          "text": [
            "MSE = mean squared error: 74.95\n"
          ]
        }
      ]
    },
    {
      "cell_type": "code",
      "source": [
        "print(f\"RMSE = root mean error: {np.sqrt(results['error_squared'].sum() / len(results)):.2f}\")"
      ],
      "metadata": {
        "colab": {
          "base_uri": "https://localhost:8080/"
        },
        "id": "Mc7JYMn0MUuk",
        "outputId": "a7b7f9de-549e-4882-e36b-1b2e06390196"
      },
      "execution_count": 8,
      "outputs": [
        {
          "output_type": "stream",
          "name": "stdout",
          "text": [
            "RMSE = root mean error: 8.66\n"
          ]
        }
      ]
    },
    {
      "cell_type": "code",
      "source": [
        "def plot_regression_results(y_true, y_pred):\n",
        "  results = pd.DataFrame({'y_true' : y_true, 'y_pred' : y_pred})\n",
        "  min = results[['y_true', 'y_pred']].min().min()\n",
        "  max = results[['y_true', 'y_pred']].max().max()\n",
        "\n",
        "  fig = go.Figure(data=[go.Scatter(x=results['y_true'], y=results['y_pred'], mode='markers'),\n",
        "                        go.Scatter(x=[min, max], y=[min, max])],\n",
        "                        layout=go.Layout(showlegend=False, width=800,\n",
        "                                   xaxis_title='y_true',\n",
        "                                   yaxis_title='y_pred',\n",
        "                                   title='Regresja: y_true vs. y_pred'))\n",
        "\n",
        "  fig.show()\n",
        "\n",
        "plot_regression_results(y_true, y_pred)"
      ],
      "metadata": {
        "colab": {
          "base_uri": "https://localhost:8080/",
          "height": 542
        },
        "id": "_zi7BwJbM45t",
        "outputId": "9dda7667-e8c9-4714-ebc3-0ba52f0e2c23"
      },
      "execution_count": 9,
      "outputs": [
        {
          "output_type": "display_data",
          "data": {
            "text/html": [
              "<html>\n",
              "<head><meta charset=\"utf-8\" /></head>\n",
              "<body>\n",
              "    <div>            <script src=\"https://cdnjs.cloudflare.com/ajax/libs/mathjax/2.7.5/MathJax.js?config=TeX-AMS-MML_SVG\"></script><script type=\"text/javascript\">if (window.MathJax && window.MathJax.Hub && window.MathJax.Hub.Config) {window.MathJax.Hub.Config({SVG: {font: \"STIX-Web\"}});}</script>                <script type=\"text/javascript\">window.PlotlyConfig = {MathJaxConfig: 'local'};</script>\n",
              "        <script charset=\"utf-8\" src=\"https://cdn.plot.ly/plotly-2.24.1.min.js\"></script>                <div id=\"b0933a2c-7e6b-4a7c-afad-0e42c97aee29\" class=\"plotly-graph-div\" style=\"height:525px; width:800px;\"></div>            <script type=\"text/javascript\">                                    window.PLOTLYENV=window.PLOTLYENV || {};                                    if (document.getElementById(\"b0933a2c-7e6b-4a7c-afad-0e42c97aee29\")) {                    Plotly.newPlot(                        \"b0933a2c-7e6b-4a7c-afad-0e42c97aee29\",                        [{\"mode\":\"markers\",\"x\":[109.93428306022466,97.2347139765763,112.95377076201385,130.46059712816052,95.31693250553329,95.3172608610164,131.58425631014782,115.34869458305818,90.61051228130096,110.8512008717193,90.73164614375075,90.68540492859486,104.83924543132068,61.73439510684404,65.50164334973934,88.75424941518054,79.74337759331152,106.28494665190547,81.83951848957578,71.75392597329417,129.31297537843108,95.4844739902693,101.35056409375848,71.50503627573087,89.11234550949635,102.21845179419732,76.98012845155395,107.51396036691344,87.9872262016239,94.16612500413447,87.96586775541206,137.04556369017877,99.73005550524132,78.84578142088199,116.45089824206377,75.58312700057955,104.1772719000951,60.80659752240449,73.43627902203139,103.93722471738246,114.76933159990821,103.4273656237994,97.68703435223519,93.97792608821422,70.42956019265145,85.60311583210583,90.78722458080425,121.1424445243783,106.87236579136923,64.73919689274533],\"y\":[113.1751227541726,93.38389117241314,106.18455075895426,136.5773600165692,105.6269277304928,104.63006205217837,123.19208107792144,112.25657082454603,93.92314659533659,120.60665214294289,85.93990376529786,88.8288151619567,93.77589569126039,49.772328866037334,73.62690157368132,102.31664970088877,79.02327637750818,116.3202756308257,85.45587874005213,65.30272842724293,132.92693143351522,110.86483965492899,100.99230370265896,87.15147283387094,62.9148944685989,110.43747683794956,77.85059913393566,104.52388686225476,88.90483396697893,74.29043585812555,85.76914887703694,140.61668940529623,114.50899595265649,73.66307923814551,108.3659622131319,70.56555656473418,113.33129307711584,64.09410861900133,68.138676984361,109.06989904851602,115.74010709338862,113.11381552912829,90.66650341346167,90.70130462223653,66.50847866132987,70.96796635078465,93.74842735145,123.7529972461772,106.92350035779384,62.39332555899386],\"type\":\"scatter\"},{\"x\":[49.772328866037334,140.61668940529623],\"y\":[49.772328866037334,140.61668940529623],\"type\":\"scatter\"}],                        {\"showlegend\":false,\"title\":{\"text\":\"Regresja: y_true vs. y_pred\"},\"width\":800,\"xaxis\":{\"title\":{\"text\":\"y_true\"}},\"yaxis\":{\"title\":{\"text\":\"y_pred\"}},\"template\":{\"data\":{\"histogram2dcontour\":[{\"type\":\"histogram2dcontour\",\"colorbar\":{\"outlinewidth\":0,\"ticks\":\"\"},\"colorscale\":[[0.0,\"#0d0887\"],[0.1111111111111111,\"#46039f\"],[0.2222222222222222,\"#7201a8\"],[0.3333333333333333,\"#9c179e\"],[0.4444444444444444,\"#bd3786\"],[0.5555555555555556,\"#d8576b\"],[0.6666666666666666,\"#ed7953\"],[0.7777777777777778,\"#fb9f3a\"],[0.8888888888888888,\"#fdca26\"],[1.0,\"#f0f921\"]]}],\"choropleth\":[{\"type\":\"choropleth\",\"colorbar\":{\"outlinewidth\":0,\"ticks\":\"\"}}],\"histogram2d\":[{\"type\":\"histogram2d\",\"colorbar\":{\"outlinewidth\":0,\"ticks\":\"\"},\"colorscale\":[[0.0,\"#0d0887\"],[0.1111111111111111,\"#46039f\"],[0.2222222222222222,\"#7201a8\"],[0.3333333333333333,\"#9c179e\"],[0.4444444444444444,\"#bd3786\"],[0.5555555555555556,\"#d8576b\"],[0.6666666666666666,\"#ed7953\"],[0.7777777777777778,\"#fb9f3a\"],[0.8888888888888888,\"#fdca26\"],[1.0,\"#f0f921\"]]}],\"heatmap\":[{\"type\":\"heatmap\",\"colorbar\":{\"outlinewidth\":0,\"ticks\":\"\"},\"colorscale\":[[0.0,\"#0d0887\"],[0.1111111111111111,\"#46039f\"],[0.2222222222222222,\"#7201a8\"],[0.3333333333333333,\"#9c179e\"],[0.4444444444444444,\"#bd3786\"],[0.5555555555555556,\"#d8576b\"],[0.6666666666666666,\"#ed7953\"],[0.7777777777777778,\"#fb9f3a\"],[0.8888888888888888,\"#fdca26\"],[1.0,\"#f0f921\"]]}],\"heatmapgl\":[{\"type\":\"heatmapgl\",\"colorbar\":{\"outlinewidth\":0,\"ticks\":\"\"},\"colorscale\":[[0.0,\"#0d0887\"],[0.1111111111111111,\"#46039f\"],[0.2222222222222222,\"#7201a8\"],[0.3333333333333333,\"#9c179e\"],[0.4444444444444444,\"#bd3786\"],[0.5555555555555556,\"#d8576b\"],[0.6666666666666666,\"#ed7953\"],[0.7777777777777778,\"#fb9f3a\"],[0.8888888888888888,\"#fdca26\"],[1.0,\"#f0f921\"]]}],\"contourcarpet\":[{\"type\":\"contourcarpet\",\"colorbar\":{\"outlinewidth\":0,\"ticks\":\"\"}}],\"contour\":[{\"type\":\"contour\",\"colorbar\":{\"outlinewidth\":0,\"ticks\":\"\"},\"colorscale\":[[0.0,\"#0d0887\"],[0.1111111111111111,\"#46039f\"],[0.2222222222222222,\"#7201a8\"],[0.3333333333333333,\"#9c179e\"],[0.4444444444444444,\"#bd3786\"],[0.5555555555555556,\"#d8576b\"],[0.6666666666666666,\"#ed7953\"],[0.7777777777777778,\"#fb9f3a\"],[0.8888888888888888,\"#fdca26\"],[1.0,\"#f0f921\"]]}],\"surface\":[{\"type\":\"surface\",\"colorbar\":{\"outlinewidth\":0,\"ticks\":\"\"},\"colorscale\":[[0.0,\"#0d0887\"],[0.1111111111111111,\"#46039f\"],[0.2222222222222222,\"#7201a8\"],[0.3333333333333333,\"#9c179e\"],[0.4444444444444444,\"#bd3786\"],[0.5555555555555556,\"#d8576b\"],[0.6666666666666666,\"#ed7953\"],[0.7777777777777778,\"#fb9f3a\"],[0.8888888888888888,\"#fdca26\"],[1.0,\"#f0f921\"]]}],\"mesh3d\":[{\"type\":\"mesh3d\",\"colorbar\":{\"outlinewidth\":0,\"ticks\":\"\"}}],\"scatter\":[{\"fillpattern\":{\"fillmode\":\"overlay\",\"size\":10,\"solidity\":0.2},\"type\":\"scatter\"}],\"parcoords\":[{\"type\":\"parcoords\",\"line\":{\"colorbar\":{\"outlinewidth\":0,\"ticks\":\"\"}}}],\"scatterpolargl\":[{\"type\":\"scatterpolargl\",\"marker\":{\"colorbar\":{\"outlinewidth\":0,\"ticks\":\"\"}}}],\"bar\":[{\"error_x\":{\"color\":\"#2a3f5f\"},\"error_y\":{\"color\":\"#2a3f5f\"},\"marker\":{\"line\":{\"color\":\"#E5ECF6\",\"width\":0.5},\"pattern\":{\"fillmode\":\"overlay\",\"size\":10,\"solidity\":0.2}},\"type\":\"bar\"}],\"scattergeo\":[{\"type\":\"scattergeo\",\"marker\":{\"colorbar\":{\"outlinewidth\":0,\"ticks\":\"\"}}}],\"scatterpolar\":[{\"type\":\"scatterpolar\",\"marker\":{\"colorbar\":{\"outlinewidth\":0,\"ticks\":\"\"}}}],\"histogram\":[{\"marker\":{\"pattern\":{\"fillmode\":\"overlay\",\"size\":10,\"solidity\":0.2}},\"type\":\"histogram\"}],\"scattergl\":[{\"type\":\"scattergl\",\"marker\":{\"colorbar\":{\"outlinewidth\":0,\"ticks\":\"\"}}}],\"scatter3d\":[{\"type\":\"scatter3d\",\"line\":{\"colorbar\":{\"outlinewidth\":0,\"ticks\":\"\"}},\"marker\":{\"colorbar\":{\"outlinewidth\":0,\"ticks\":\"\"}}}],\"scattermapbox\":[{\"type\":\"scattermapbox\",\"marker\":{\"colorbar\":{\"outlinewidth\":0,\"ticks\":\"\"}}}],\"scatterternary\":[{\"type\":\"scatterternary\",\"marker\":{\"colorbar\":{\"outlinewidth\":0,\"ticks\":\"\"}}}],\"scattercarpet\":[{\"type\":\"scattercarpet\",\"marker\":{\"colorbar\":{\"outlinewidth\":0,\"ticks\":\"\"}}}],\"carpet\":[{\"aaxis\":{\"endlinecolor\":\"#2a3f5f\",\"gridcolor\":\"white\",\"linecolor\":\"white\",\"minorgridcolor\":\"white\",\"startlinecolor\":\"#2a3f5f\"},\"baxis\":{\"endlinecolor\":\"#2a3f5f\",\"gridcolor\":\"white\",\"linecolor\":\"white\",\"minorgridcolor\":\"white\",\"startlinecolor\":\"#2a3f5f\"},\"type\":\"carpet\"}],\"table\":[{\"cells\":{\"fill\":{\"color\":\"#EBF0F8\"},\"line\":{\"color\":\"white\"}},\"header\":{\"fill\":{\"color\":\"#C8D4E3\"},\"line\":{\"color\":\"white\"}},\"type\":\"table\"}],\"barpolar\":[{\"marker\":{\"line\":{\"color\":\"#E5ECF6\",\"width\":0.5},\"pattern\":{\"fillmode\":\"overlay\",\"size\":10,\"solidity\":0.2}},\"type\":\"barpolar\"}],\"pie\":[{\"automargin\":true,\"type\":\"pie\"}]},\"layout\":{\"autotypenumbers\":\"strict\",\"colorway\":[\"#636efa\",\"#EF553B\",\"#00cc96\",\"#ab63fa\",\"#FFA15A\",\"#19d3f3\",\"#FF6692\",\"#B6E880\",\"#FF97FF\",\"#FECB52\"],\"font\":{\"color\":\"#2a3f5f\"},\"hovermode\":\"closest\",\"hoverlabel\":{\"align\":\"left\"},\"paper_bgcolor\":\"white\",\"plot_bgcolor\":\"#E5ECF6\",\"polar\":{\"bgcolor\":\"#E5ECF6\",\"angularaxis\":{\"gridcolor\":\"white\",\"linecolor\":\"white\",\"ticks\":\"\"},\"radialaxis\":{\"gridcolor\":\"white\",\"linecolor\":\"white\",\"ticks\":\"\"}},\"ternary\":{\"bgcolor\":\"#E5ECF6\",\"aaxis\":{\"gridcolor\":\"white\",\"linecolor\":\"white\",\"ticks\":\"\"},\"baxis\":{\"gridcolor\":\"white\",\"linecolor\":\"white\",\"ticks\":\"\"},\"caxis\":{\"gridcolor\":\"white\",\"linecolor\":\"white\",\"ticks\":\"\"}},\"coloraxis\":{\"colorbar\":{\"outlinewidth\":0,\"ticks\":\"\"}},\"colorscale\":{\"sequential\":[[0.0,\"#0d0887\"],[0.1111111111111111,\"#46039f\"],[0.2222222222222222,\"#7201a8\"],[0.3333333333333333,\"#9c179e\"],[0.4444444444444444,\"#bd3786\"],[0.5555555555555556,\"#d8576b\"],[0.6666666666666666,\"#ed7953\"],[0.7777777777777778,\"#fb9f3a\"],[0.8888888888888888,\"#fdca26\"],[1.0,\"#f0f921\"]],\"sequentialminus\":[[0.0,\"#0d0887\"],[0.1111111111111111,\"#46039f\"],[0.2222222222222222,\"#7201a8\"],[0.3333333333333333,\"#9c179e\"],[0.4444444444444444,\"#bd3786\"],[0.5555555555555556,\"#d8576b\"],[0.6666666666666666,\"#ed7953\"],[0.7777777777777778,\"#fb9f3a\"],[0.8888888888888888,\"#fdca26\"],[1.0,\"#f0f921\"]],\"diverging\":[[0,\"#8e0152\"],[0.1,\"#c51b7d\"],[0.2,\"#de77ae\"],[0.3,\"#f1b6da\"],[0.4,\"#fde0ef\"],[0.5,\"#f7f7f7\"],[0.6,\"#e6f5d0\"],[0.7,\"#b8e186\"],[0.8,\"#7fbc41\"],[0.9,\"#4d9221\"],[1,\"#276419\"]]},\"xaxis\":{\"gridcolor\":\"white\",\"linecolor\":\"white\",\"ticks\":\"\",\"title\":{\"standoff\":15},\"zerolinecolor\":\"white\",\"automargin\":true,\"zerolinewidth\":2},\"yaxis\":{\"gridcolor\":\"white\",\"linecolor\":\"white\",\"ticks\":\"\",\"title\":{\"standoff\":15},\"zerolinecolor\":\"white\",\"automargin\":true,\"zerolinewidth\":2},\"scene\":{\"xaxis\":{\"backgroundcolor\":\"#E5ECF6\",\"gridcolor\":\"white\",\"linecolor\":\"white\",\"showbackground\":true,\"ticks\":\"\",\"zerolinecolor\":\"white\",\"gridwidth\":2},\"yaxis\":{\"backgroundcolor\":\"#E5ECF6\",\"gridcolor\":\"white\",\"linecolor\":\"white\",\"showbackground\":true,\"ticks\":\"\",\"zerolinecolor\":\"white\",\"gridwidth\":2},\"zaxis\":{\"backgroundcolor\":\"#E5ECF6\",\"gridcolor\":\"white\",\"linecolor\":\"white\",\"showbackground\":true,\"ticks\":\"\",\"zerolinecolor\":\"white\",\"gridwidth\":2}},\"shapedefaults\":{\"line\":{\"color\":\"#2a3f5f\"}},\"annotationdefaults\":{\"arrowcolor\":\"#2a3f5f\",\"arrowhead\":0,\"arrowwidth\":1},\"geo\":{\"bgcolor\":\"white\",\"landcolor\":\"#E5ECF6\",\"subunitcolor\":\"white\",\"showland\":true,\"showlakes\":true,\"lakecolor\":\"white\"},\"title\":{\"x\":0.05},\"mapbox\":{\"style\":\"light\"}}}},                        {\"responsive\": true}                    ).then(function(){\n",
              "                            \n",
              "var gd = document.getElementById('b0933a2c-7e6b-4a7c-afad-0e42c97aee29');\n",
              "var x = new MutationObserver(function (mutations, observer) {{\n",
              "        var display = window.getComputedStyle(gd).display;\n",
              "        if (!display || display === 'none') {{\n",
              "            console.log([gd, 'removed!']);\n",
              "            Plotly.purge(gd);\n",
              "            observer.disconnect();\n",
              "        }}\n",
              "}});\n",
              "\n",
              "// Listen for the removal of the full notebook cells\n",
              "var notebookContainer = gd.closest('#notebook-container');\n",
              "if (notebookContainer) {{\n",
              "    x.observe(notebookContainer, {childList: true});\n",
              "}}\n",
              "\n",
              "// Listen for the clearing of the current output cell\n",
              "var outputEl = gd.closest('.output');\n",
              "if (outputEl) {{\n",
              "    x.observe(outputEl, {childList: true});\n",
              "}}\n",
              "\n",
              "                        })                };                            </script>        </div>\n",
              "</body>\n",
              "</html>"
            ]
          },
          "metadata": {}
        }
      ]
    },
    {
      "cell_type": "code",
      "source": [
        "y_true = 100 + 20 * np.random.randn(1000)\n",
        "y_pred = y_true + 20 * np.random.randn(1000)\n",
        "\n",
        "results = pd.DataFrame({'y_true' : y_true, 'y_pred' : y_pred})\n",
        "results['error'] = results['y_true'] - results['y_pred']\n",
        "\n",
        "px.histogram(results, x='error', nbins=50, width=800)"
      ],
      "metadata": {
        "colab": {
          "base_uri": "https://localhost:8080/",
          "height": 542
        },
        "id": "_5ScTpKLOjbe",
        "outputId": "b2c928e7-cccd-4b73-db69-477f58f22db0"
      },
      "execution_count": 10,
      "outputs": [
        {
          "output_type": "display_data",
          "data": {
            "text/html": [
              "<html>\n",
              "<head><meta charset=\"utf-8\" /></head>\n",
              "<body>\n",
              "    <div>            <script src=\"https://cdnjs.cloudflare.com/ajax/libs/mathjax/2.7.5/MathJax.js?config=TeX-AMS-MML_SVG\"></script><script type=\"text/javascript\">if (window.MathJax && window.MathJax.Hub && window.MathJax.Hub.Config) {window.MathJax.Hub.Config({SVG: {font: \"STIX-Web\"}});}</script>                <script type=\"text/javascript\">window.PlotlyConfig = {MathJaxConfig: 'local'};</script>\n",
              "        <script charset=\"utf-8\" src=\"https://cdn.plot.ly/plotly-2.24.1.min.js\"></script>                <div id=\"60136ec0-a163-4a69-82bf-7fc4c3d156c0\" class=\"plotly-graph-div\" style=\"height:525px; width:800px;\"></div>            <script type=\"text/javascript\">                                    window.PLOTLYENV=window.PLOTLYENV || {};                                    if (document.getElementById(\"60136ec0-a163-4a69-82bf-7fc4c3d156c0\")) {                    Plotly.newPlot(                        \"60136ec0-a163-4a69-82bf-7fc4c3d156c0\",                        [{\"alignmentgroup\":\"True\",\"bingroup\":\"x\",\"hovertemplate\":\"error=%{x}\\u003cbr\\u003ecount=%{y}\\u003cextra\\u003e\\u003c\\u002fextra\\u003e\",\"legendgroup\":\"\",\"marker\":{\"color\":\"#636efa\",\"pattern\":{\"shape\":\"\"}},\"name\":\"\",\"nbinsx\":50,\"offsetgroup\":\"\",\"orientation\":\"v\",\"showlegend\":false,\"x\":[-19.96020219719304,57.92510756387379,-41.767494095614566,2.7917925631034706,-22.16365633475033,20.798118542510622,-12.255478101251384,21.06831126347312,12.4753792139161,-38.28062707733572,3.813648015266935,-4.3486574635944635,-17.401354613775084,-9.913637759452087,-3.008378102871532,-7.299220049324504,-48.06831170476549,1.1523759406717033,-4.02198093429935,-21.01308792015223,-22.11051865915968,-23.740606111207597,-12.774604440583687,22.860098254609667,-32.66863064602191,22.92690786037376,-6.052709304780663,15.085517000387156,1.2827669318598538,-6.5752482060696025,-6.427144309005456,-8.438415084705696,-32.27422538117294,-9.070686030279603,4.883132705812969,-19.28174336576714,-23.78940977849281,24.552156302739846,-11.948001396997157,-14.023454846217973,5.951270067199843,-27.514136266232384,3.001111740650529,-2.51152906943085,3.461436485677396,-0.3115809516293524,21.925501737904035,28.801017651885886,-31.890101264499435,16.93922696636656,19.827846989126144,43.067802272074296,12.779234953790052,26.461795868149963,-32.840303202727384,-20.196341786852685,13.76300690355447,-45.04871610688619,-19.635309739831882,6.496627670172444,49.98811429747146,-45.81885145181484,27.79144933527192,32.90797493913784,-20.45140864019281,-48.79504812678546,-27.685456370210375,-11.27818240104719,-11.895086833305712,-17.068311175606155,-15.178571795735309,-5.623828479387512,-2.084022079037524,1.2518625579904494,15.079291777333523,5.61350153733548,33.8591362839077,1.9667925358949958,19.77182214301834,22.071786344315427,-3.5978830230695706,-27.840045726891987,-18.366332120046266,31.410012072463545,19.792562731406747,-18.815423759764315,19.64974787076619,4.492662999940492,-11.001041980491038,19.366889097272704,-2.1075101229191944,26.680509898364093,12.027352879024278,-6.395638682850745,31.85987467063339,-8.809494759207979,0.39275597853362854,-11.04979908834295,-4.478282681293223,-27.28280859947688,-2.504490052958147,8.588110822505058,-2.4459500606456714,-10.865960580727759,-0.9772014065140837,-0.8118338240776524,14.03983375613511,13.258018351018961,28.052105435993866,-34.99153486373879,24.877264707825702,13.858103955918153,14.368145311383955,-17.89848753888883,5.898993565840556,-24.95484145347467,13.469812484877366,-5.5798832444760365,16.706941065195153,-42.90298255546777,23.751968380590256,-6.196414204540552,-12.675537618641968,-8.275981949029969,3.705753177554172,2.5964139946685236,-0.8762294395821897,2.940040032569769,-19.277582335898202,-44.210460031827026,11.149835700156672,27.39605959158156,1.7656409670250923,-51.594186753086376,16.07349135939461,-32.78233610888134,-33.55401628152882,11.071764834159893,-11.379661583705513,-32.56793246257075,7.582554819749745,4.0716072020472325,11.633618278972875,20.29513461385733,12.985550901320138,24.478805335245127,-0.6816693651845185,15.39946462117284,-4.675718235814941,31.11791292407254,-6.617604644289145,-16.670579232178483,39.87471285142911,-7.481131396951454,-24.55337984946584,24.192820373824105,-33.451447736754076,-8.38038018732091,14.10023711516817,1.1153815531541227,-11.166538250434442,-1.5201078282482285,-10.775119848927382,18.413471861587325,-3.3872164807215626,28.2742899380996,2.2245212269740193,18.078152829295796,14.71059885179534,-24.72186350420874,-21.82620241188539,-12.18276241814354,21.846255293451577,6.328168993896043,-24.261953999583667,-2.8343382727980924,-46.38659079963389,-7.86635678788744,-3.8409823298006245,6.182329284050027,-2.670818095645643,3.0493967276108833,-14.162173533771806,-19.134046335891682,15.719789210158993,26.624659071155563,36.72410746206593,-10.159826538250869,22.06733212347747,43.05781185904966,-7.771572090619287,-49.85999034865581,0.12141823079787173,-16.769815489032837,-1.6365871709513016,1.9777930638228582,-18.38152965975536,5.805490883773032,-5.347846281438052,-6.433956123920268,13.361809072860979,-19.840846990730455,3.4991951339081737,15.11490318985689,-10.730196871408069,17.96935963582075,-0.5636231473825717,0.18237993288407495,-21.717911316631557,-9.49396465759905,0.5005391749028831,-16.355325984005745,-27.804150980346265,-11.156206127037251,-0.2070523968676099,26.2367246470032,21.30227326150745,6.104494087093357,12.190244043185658,3.7394260597089186,-1.1329984979421397,-10.593855087134614,1.4099755611818239,-9.730032876524035,-1.289488296202407,39.509331327077426,18.78670787637509,2.881751114432305,24.193894856822155,-11.998574599924098,-30.615016646873954,-24.375237033946334,4.268857418604156,-29.814522736999038,-2.9733491440422313,6.741719422360788,12.268053270818797,6.049393729762571,7.763536370824582,-3.408324447509756,-3.211479620997295,-0.060920403068294604,-8.738763394926991,-23.81292549572683,-18.991082708826482,29.69795936899807,51.0784226980391,-18.686398224785478,27.33757396830842,4.495308037853675,23.402260521187188,36.0396087516004,-10.829254564095763,-15.183103206052934,11.530208014534395,51.820845842898194,10.92488896504966,-7.836080108050936,29.578231375482574,-3.667198395583114,0.30619698345991253,-11.585829992021758,-2.3916073682830614,19.461378817631115,-23.93143003328983,3.1705914605393986,0.5460907901986332,18.665359181463927,8.865645023830211,17.69605428053802,3.4589211984684596,-34.234169602846876,27.438022858627136,32.27122795753482,-29.42340654987217,4.186473543037323,13.381454773198328,-20.798093747921527,12.112310794737283,-36.52019427093873,-13.558517426785386,9.758228162914051,-43.14616426531006,12.114298460066763,-14.841907440186134,-5.985851608129835,-26.034825787975976,-31.230223934537065,-0.6400829813153308,15.068357406923667,-9.199442858782334,13.554307395042116,-40.26774495053246,-2.730706621654747,7.30643102624218,-3.693606117298174,26.942525790593933,19.432280770213026,-24.008278158888515,13.137885579427916,20.938219653638797,-10.73305505054573,-23.714083093259944,-14.379066213301343,-19.92095371611633,15.135901771389214,28.43621333483688,-30.02667303910974,6.453596776842716,5.016660329100944,-26.563882836981165,-11.124600188013204,-9.117755441632156,-43.30004689802168,12.870364607602866,-18.55680256162475,-1.1402624979416771,-5.371845577265134,-30.56936852825062,-10.156715125792473,-10.765921580992654,-21.450146746196054,7.299054590857708,16.78419334678013,20.896183880420665,39.327131787520045,-41.12414259880644,22.06416731443366,4.425072471715438,5.536265997778415,-6.148133956182022,-16.314744250785935,-17.209469767194904,11.661548771378762,3.3424342757282233,-5.651599009765988,4.973822523670947,-32.146911520399854,-9.819499032765023,-14.697555720996348,-13.257625373348247,-23.469477149706506,-3.6204311740741417,25.936638959116934,-7.9937590350528325,13.027137875836587,10.572333634995132,-11.72728037510187,-24.765661428672715,-0.42543153472122697,-6.176660251979271,-34.044298892704774,-4.81506358977137,-52.03366228360791,-11.310192912630882,35.215255183116355,-15.066832422090656,-7.6231676976555605,-25.79505508165491,-13.463627025399163,2.7691196796754696,24.485964725787312,4.180465145720504,17.01040908418601,11.610468996094454,-11.771568088412195,-33.39809008702812,-7.893430596459623,23.917661240703694,-8.892053364402813,-23.932629732913014,12.195658086387645,2.680343333458353,-0.2937638945839467,15.697966261644808,-12.965608676877181,2.418962972155626,-8.390648878140553,17.74984355604201,8.7491660064682,-14.447627156555427,7.456663041835341,-34.53927702466811,7.992723712292047,-4.493694515037717,-18.651816637461806,28.367314658660632,35.21617623961552,30.513126291401903,-25.251682068543644,11.037162917848931,-51.16398571336504,11.28495197314777,-3.6910260639407397,-30.84219905135751,-40.121857763182476,-41.23007153272795,-24.167324611862853,-20.481250516229252,-11.850538984023657,-15.567221523332762,11.02371432657067,16.36397766844614,0.06748914821903895,3.4036924504985677,9.064560986545501,-13.927748949134312,-19.10610417141021,-1.7681377258369508,-29.55060162110523,22.8337822826701,3.873189185594356,14.336446412056105,37.3307323414612,1.6536137168539824,2.4349501676656757,-30.26899486484261,-12.616233691095559,20.483736486584093,-37.08185132668376,-24.420673910507062,-11.641954069372318,4.529681976996642,19.188784734469593,7.44413552142106,-21.77497239408372,-37.69172611869217,-30.864870565443766,9.776988435725485,22.392348665780226,-2.8177249382240745,35.36878731125703,-6.463354283695637,2.9520517259733765,9.32073003736484,31.894061345335913,-10.27200213139433,10.654016793238227,23.398336714205755,57.44524426563299,0.5502981010127286,-35.44503193339489,-33.2251842909574,9.14192513172543,12.044241207235615,-9.375485121500475,19.96770878376583,-6.0358379963893185,-15.321605567693808,-24.538664477686154,2.003081529599058,4.073475003539315,17.559651735131226,16.5376070807972,4.529577838030534,-7.347310136323557,-18.271692524664985,16.063579013606898,-29.853771379190434,5.422472020851373,0.4273458869687232,14.944233582956471,48.48480520545883,-17.680907927221,-14.736877941848661,5.626551142364264,-1.3398143444974409,-10.318784354081984,31.250917137730852,10.5810535469259,-15.88529359243654,25.085788463384986,-5.871158643332592,27.1316360924681,-9.328599648670533,0.7128296459496681,32.30263631811019,-23.294787089143426,14.691831535960986,16.205048740287623,-4.011383944618856,-22.9727469885743,20.316436379567932,-1.2335969969594203,-8.576330006611457,-13.862112145262884,-3.528831105544498,7.34055678166645,16.55180441297439,-1.7228776609274945,21.442780239712135,58.42700966989214,-8.731196083153364,-18.07869682172391,47.258648710836766,20.194614094198755,-12.38308522010395,-41.14990939423397,-0.41587415350815604,14.560058824582683,3.6579288220968067,-27.497528382963694,12.919283582490706,15.983840133005074,9.654870443640647,19.06657216517425,-2.4534063198959046,-32.49356916939121,-6.461585462320585,5.047070042525746,5.8362253783108855,31.263816173933137,-17.66219554294318,1.556743940256041,3.6095982718125015,-63.8621513568972,-5.975058167313719,15.035821001903685,8.527151924110868,-22.968914183935098,-2.2654082107552824,28.765559566347335,-18.38457869150406,13.362881710779874,-37.4659555243509,-21.600961314292974,8.946437913175018,-25.62032723470226,-1.357110210548072,-17.055473502444386,-9.694656345889499,16.927133099817468,12.87099664634924,-20.599216351623227,6.695506642130823,8.072969264839934,19.10245158698706,-8.471981311869214,-41.25049838486291,21.35065828508546,-0.4843891334551671,-28.244411108308583,1.592827824914309,-9.047435924994673,21.247870562937592,-8.566141944152974,3.7428853000909754,-19.714599913597254,-23.747721031295015,-51.79127284037229,-11.59266346427151,-6.515926331643328,-3.887686031546721,7.0633258562137655,-6.76967686923382,5.908028202780585,-3.369219525392282,-26.351950712159194,20.130851305592827,-22.7975712225809,-26.342301346797313,2.3613705398215785,42.43709798017189,12.156439741888647,-25.93989093122218,0.45736124597763705,19.986044645898218,10.095498424564354,-16.81240053009106,-10.934671364027594,4.778641983393882,7.336488236293754,7.835162980876433,18.448203689970057,-32.307513789388835,6.446409384226797,-24.343170416509935,-30.426321038449032,-19.966217962959206,8.632406254360973,-8.07460180673219,0.4839121278183285,18.074037214602555,-6.487185634432066,23.58079582319605,-23.753587769231274,9.292345945967867,-4.023193117456785,-5.665757430922838,5.178099474081549,-11.733876029505495,9.498073132450486,-17.42594594914489,26.919593604934974,-2.527591590928239,-38.778579981165706,20.006626492111494,13.554899410497029,-10.278156993178285,-3.5916356387919564,-7.0126019854711785,-9.783742602953282,-12.694429371235401,-22.193996839124466,-8.196373138570252,4.825153092370854,-13.451474024054619,-37.99763869790431,2.652674927651468,19.49058609341283,-22.14161338573946,2.40762327907197,43.453390920280725,-16.948433543008434,10.70656371907846,1.8106656460832085,-6.639606611380287,-3.809993595581332,-14.189036342780796,8.70972741139687,-10.262115963521651,5.1909335516783415,-14.776209617750055,-12.30734968026107,18.70877404089191,-21.719642323500636,10.719268902280959,-16.161155965622896,-7.345746268026815,-36.76367353590244,4.469319647437047,6.986335922363949,0.3883921177546483,6.063595656685507,-15.998838038841,32.32621216873176,21.073648382927075,21.35605843158386,-19.006151839471528,-34.212267451638496,2.0889843707494293,3.3764344638002086,-1.4010432622636273,-23.237566052163814,18.54706268381149,-4.767379654695702,-19.5039525956486,-10.021883398796902,-3.791632331974867,-20.02092185134282,54.06464585998474,-13.557506390618158,13.081513662548474,36.61265793712913,-10.224051990499618,-27.47317090325916,2.7489702925538353,-19.057490944058785,-32.24556515977291,-26.29828907168094,-32.79929058742786,-14.842549821437842,-1.5086727780318654,32.03931623794337,4.9212497625989755,16.864931906323832,-43.41885434995628,3.5177162486467353,-2.464096135689715,-11.029707520809353,-0.8720489274490717,-33.90102080861506,12.452987234689047,-3.8921491047448598,14.849411713960961,26.400450224414115,12.235381818105708,0.7407359409682357,8.586044490345202,13.848419597477118,28.126349273436674,1.662111452573896,30.09440748062005,-15.20111927379206,-1.6487950586900695,29.151029989298607,6.1841815409972725,15.043128111811669,-6.383490208383606,-26.809008920462887,37.50344939291489,-2.300521582948349,3.202655911332812,-13.42680152900931,-4.263932564753787,15.039386634776378,6.381078713332357,15.920517136069776,-21.520142771971962,-0.42623297343884303,-38.02381371506016,1.213216276292414,14.168135338209254,30.274287852256542,36.0627935251189,31.682718860109794,-5.342533020229666,-10.17450046459868,31.62381404064267,-17.90076628152231,9.661221033668795,-2.9358602397109905,-32.24441256510849,-17.936786317310634,5.370612958116652,17.823844508305747,43.0363080265861,14.383066384848405,4.222604776553894,19.743590543023686,2.6251393418460935,-1.537037659175354,4.497119636161585,13.000051616469193,-3.3730934393345535,-8.838812991388181,21.80798154885693,-28.2186475949254,1.9717626456852315,-0.3769924588969502,-14.164288465131136,-4.664322625270032,-19.062732678264908,-5.742483304036483,12.24874749280876,-7.23007050412204,22.874524146413236,-2.1711941155304686,0.6645998128892217,4.162337145450792,2.5707502287786212,37.63698090995278,10.97449815481923,-1.8568980228222927,-3.19712783994801,20.553502818519163,-25.314156817294005,17.32349696429003,-19.389144010534736,-8.543887237433694,12.924546196876065,-35.50621785219023,23.8727366351296,-18.383083472200042,-20.011646360859572,13.412404181532892,-27.84930600128658,5.00093029197906,-5.773872585597147,-5.206436775424407,2.686174829410959,-16.21616546319565,-15.869774411044261,34.97063946476362,-26.086804857563052,33.249839760713485,-20.650924086833143,-22.534102736551674,21.819328604303962,8.216285759091704,22.114093369718717,4.298420605774709,6.160685683714831,-15.593210645386804,-26.206174922392165,-27.913676215799114,11.24336053156604,4.184437474890558,33.668763844419004,16.11740132992378,-19.297032661949146,-32.311656470964635,24.686977437598443,11.849285183057887,0.5281151391785386,-5.6032231763921345,16.192070398432918,-8.481220889281786,9.476786941418325,0.289045417565589,-10.925684960073994,-0.12844539621875128,8.727717810531374,2.1921960785166164,1.767259184106706,7.400220597642559,5.175921253342054,-31.97294341009433,-11.218388958824775,5.909606360583211,-13.93908809021471,6.676389795120201,-23.462492751732825,-7.39284384396187,2.146042880084579,-8.954338516205553,31.41752304136999,22.535349378196102,23.878500127981113,-2.8588618952741456,-34.650299989701836,-44.62600292385265,-12.761022028815148,-10.016889498889128,36.02115468305478,10.853475994680437,15.755675038164782,12.41695196502232,3.3628763716957906,9.441811553942543,39.58599620751575,-14.958205122350677,21.454860514796124,-4.784937282222984,-41.481653394999455,18.387691831728468,50.60575045492659,5.72008443760221,-22.019192699971427,-39.16694908441187,24.59099188904834,-9.933984464730429,9.306209135601065,2.118967086082712,-52.88686694034071,30.059406567903068,-5.074793229891469,-9.353863435308668,-21.71572649878695,-1.959663069417914,-6.161010790082045,7.832971348435819,-5.3825388249021415,6.863845509948206,-12.43143779712102,7.392206720872679,-7.542007878043734,0.5852562736995708,-22.521005015443365,1.0278744717697208,35.46064936413763,-25.238430014279828,18.114646017252383,13.075326772976396,11.913225880869845,-27.488761863416357,42.713484279573905,-62.75497067319989,-21.121136181321035,-4.464778282583197,1.0978800123257315,-5.711081497153145,-10.42244856758677,-12.904311719001143,-11.112089320068975,-1.7916136251049863,3.946768406146518,3.0254656730702436,3.8981656070536275,-22.67540193734129,-11.871134445617244,58.80777269328561,-13.118015530595216,-3.8947238943755025,0.3741751289179547,7.770369061777714,-22.48225439972026,-18.950529242457158,15.457553356472182,-8.141045742490704,19.433134690825725,27.59236329577861,12.534344491799303,-17.247869447655177,-19.062500907521738,-10.261708401945867,-14.501915736959944,-10.323565742299166,12.829631904459049,-8.638450893478819,-16.008190504553653,-15.085826596271481,-23.778267429492857,-14.16607694402127,-7.028964150831655,-21.40300476632855,0.5304251849811976,17.63749302455436,3.2613392788752833,14.898052896128988,13.503565499487635,2.8903734143103605,15.848398419999228,6.159230592780801,37.87229333907571,-4.265874147458774,-0.024109507244489237,16.341772621363816,-13.184913368648097,-18.751402752531163,32.151197287379475,15.254495571324284,15.382846995745965,18.79806202217729,-16.58949683863497,3.876522775456067,5.290296826212213,40.07724728813507,-12.70836060418452,24.785167897069442,-1.198652605326572,-5.547538759163828,-27.21317191677302,26.176407982382244,60.390243116416514,-3.6769908950738994,-36.01022363021707,-24.77892705878874,-4.193188305492512,9.832723712640941,-16.142451932746198,19.470923994089375,-9.527155387124381,-10.109403183332532,-21.2041981499776,-55.19320077822155,-7.848319343575341,10.179272514149972,0.5114862438398831,35.38151809778236,13.894262621781166,8.185648762262076,10.481767958691847,-3.0470974406744347,16.448398647644012,-22.420613346489432,-0.004141298363947499,0.1860064227722944,6.557894330258364,-3.1038136771795735,-16.501965293352697,17.342604314218008,13.162329781505136,6.074520575533299,26.917418469464295,16.38515719442995,9.524417470893184,-17.48778361425454,-5.251226580038505,-3.8717982273508937,-17.017959243359456,2.7474357679879304,-7.8092969985777785,2.064435058649927,-5.3072469879925706,11.65517315223164,48.77634316552858,2.685583243726086,-28.45496272199881,-18.524308044831855,-19.30794969182341,-24.722614436124346,-1.7731518192287439,-3.9463141481119095,12.353037908687,6.321457120540998,-12.315422995422836,-24.077688743376328,2.7889255136199864,9.00378529702823,-0.010559177131952424,-12.024134978582296,28.877096322670837,45.92361906274476,11.01073698983167,24.414248518283173,10.16280395294622,2.9556063763494365,9.06496818046027,-29.049350689414908,-6.5348952920464,-6.009487192216568,-12.444142880868043,22.776662355615386,-20.782235748405384,1.515285730709195,-13.409612344824254,21.437144660803106,31.075175320321293,-16.357793160500577],\"xaxis\":\"x\",\"yaxis\":\"y\",\"type\":\"histogram\"}],                        {\"template\":{\"data\":{\"histogram2dcontour\":[{\"type\":\"histogram2dcontour\",\"colorbar\":{\"outlinewidth\":0,\"ticks\":\"\"},\"colorscale\":[[0.0,\"#0d0887\"],[0.1111111111111111,\"#46039f\"],[0.2222222222222222,\"#7201a8\"],[0.3333333333333333,\"#9c179e\"],[0.4444444444444444,\"#bd3786\"],[0.5555555555555556,\"#d8576b\"],[0.6666666666666666,\"#ed7953\"],[0.7777777777777778,\"#fb9f3a\"],[0.8888888888888888,\"#fdca26\"],[1.0,\"#f0f921\"]]}],\"choropleth\":[{\"type\":\"choropleth\",\"colorbar\":{\"outlinewidth\":0,\"ticks\":\"\"}}],\"histogram2d\":[{\"type\":\"histogram2d\",\"colorbar\":{\"outlinewidth\":0,\"ticks\":\"\"},\"colorscale\":[[0.0,\"#0d0887\"],[0.1111111111111111,\"#46039f\"],[0.2222222222222222,\"#7201a8\"],[0.3333333333333333,\"#9c179e\"],[0.4444444444444444,\"#bd3786\"],[0.5555555555555556,\"#d8576b\"],[0.6666666666666666,\"#ed7953\"],[0.7777777777777778,\"#fb9f3a\"],[0.8888888888888888,\"#fdca26\"],[1.0,\"#f0f921\"]]}],\"heatmap\":[{\"type\":\"heatmap\",\"colorbar\":{\"outlinewidth\":0,\"ticks\":\"\"},\"colorscale\":[[0.0,\"#0d0887\"],[0.1111111111111111,\"#46039f\"],[0.2222222222222222,\"#7201a8\"],[0.3333333333333333,\"#9c179e\"],[0.4444444444444444,\"#bd3786\"],[0.5555555555555556,\"#d8576b\"],[0.6666666666666666,\"#ed7953\"],[0.7777777777777778,\"#fb9f3a\"],[0.8888888888888888,\"#fdca26\"],[1.0,\"#f0f921\"]]}],\"heatmapgl\":[{\"type\":\"heatmapgl\",\"colorbar\":{\"outlinewidth\":0,\"ticks\":\"\"},\"colorscale\":[[0.0,\"#0d0887\"],[0.1111111111111111,\"#46039f\"],[0.2222222222222222,\"#7201a8\"],[0.3333333333333333,\"#9c179e\"],[0.4444444444444444,\"#bd3786\"],[0.5555555555555556,\"#d8576b\"],[0.6666666666666666,\"#ed7953\"],[0.7777777777777778,\"#fb9f3a\"],[0.8888888888888888,\"#fdca26\"],[1.0,\"#f0f921\"]]}],\"contourcarpet\":[{\"type\":\"contourcarpet\",\"colorbar\":{\"outlinewidth\":0,\"ticks\":\"\"}}],\"contour\":[{\"type\":\"contour\",\"colorbar\":{\"outlinewidth\":0,\"ticks\":\"\"},\"colorscale\":[[0.0,\"#0d0887\"],[0.1111111111111111,\"#46039f\"],[0.2222222222222222,\"#7201a8\"],[0.3333333333333333,\"#9c179e\"],[0.4444444444444444,\"#bd3786\"],[0.5555555555555556,\"#d8576b\"],[0.6666666666666666,\"#ed7953\"],[0.7777777777777778,\"#fb9f3a\"],[0.8888888888888888,\"#fdca26\"],[1.0,\"#f0f921\"]]}],\"surface\":[{\"type\":\"surface\",\"colorbar\":{\"outlinewidth\":0,\"ticks\":\"\"},\"colorscale\":[[0.0,\"#0d0887\"],[0.1111111111111111,\"#46039f\"],[0.2222222222222222,\"#7201a8\"],[0.3333333333333333,\"#9c179e\"],[0.4444444444444444,\"#bd3786\"],[0.5555555555555556,\"#d8576b\"],[0.6666666666666666,\"#ed7953\"],[0.7777777777777778,\"#fb9f3a\"],[0.8888888888888888,\"#fdca26\"],[1.0,\"#f0f921\"]]}],\"mesh3d\":[{\"type\":\"mesh3d\",\"colorbar\":{\"outlinewidth\":0,\"ticks\":\"\"}}],\"scatter\":[{\"fillpattern\":{\"fillmode\":\"overlay\",\"size\":10,\"solidity\":0.2},\"type\":\"scatter\"}],\"parcoords\":[{\"type\":\"parcoords\",\"line\":{\"colorbar\":{\"outlinewidth\":0,\"ticks\":\"\"}}}],\"scatterpolargl\":[{\"type\":\"scatterpolargl\",\"marker\":{\"colorbar\":{\"outlinewidth\":0,\"ticks\":\"\"}}}],\"bar\":[{\"error_x\":{\"color\":\"#2a3f5f\"},\"error_y\":{\"color\":\"#2a3f5f\"},\"marker\":{\"line\":{\"color\":\"#E5ECF6\",\"width\":0.5},\"pattern\":{\"fillmode\":\"overlay\",\"size\":10,\"solidity\":0.2}},\"type\":\"bar\"}],\"scattergeo\":[{\"type\":\"scattergeo\",\"marker\":{\"colorbar\":{\"outlinewidth\":0,\"ticks\":\"\"}}}],\"scatterpolar\":[{\"type\":\"scatterpolar\",\"marker\":{\"colorbar\":{\"outlinewidth\":0,\"ticks\":\"\"}}}],\"histogram\":[{\"marker\":{\"pattern\":{\"fillmode\":\"overlay\",\"size\":10,\"solidity\":0.2}},\"type\":\"histogram\"}],\"scattergl\":[{\"type\":\"scattergl\",\"marker\":{\"colorbar\":{\"outlinewidth\":0,\"ticks\":\"\"}}}],\"scatter3d\":[{\"type\":\"scatter3d\",\"line\":{\"colorbar\":{\"outlinewidth\":0,\"ticks\":\"\"}},\"marker\":{\"colorbar\":{\"outlinewidth\":0,\"ticks\":\"\"}}}],\"scattermapbox\":[{\"type\":\"scattermapbox\",\"marker\":{\"colorbar\":{\"outlinewidth\":0,\"ticks\":\"\"}}}],\"scatterternary\":[{\"type\":\"scatterternary\",\"marker\":{\"colorbar\":{\"outlinewidth\":0,\"ticks\":\"\"}}}],\"scattercarpet\":[{\"type\":\"scattercarpet\",\"marker\":{\"colorbar\":{\"outlinewidth\":0,\"ticks\":\"\"}}}],\"carpet\":[{\"aaxis\":{\"endlinecolor\":\"#2a3f5f\",\"gridcolor\":\"white\",\"linecolor\":\"white\",\"minorgridcolor\":\"white\",\"startlinecolor\":\"#2a3f5f\"},\"baxis\":{\"endlinecolor\":\"#2a3f5f\",\"gridcolor\":\"white\",\"linecolor\":\"white\",\"minorgridcolor\":\"white\",\"startlinecolor\":\"#2a3f5f\"},\"type\":\"carpet\"}],\"table\":[{\"cells\":{\"fill\":{\"color\":\"#EBF0F8\"},\"line\":{\"color\":\"white\"}},\"header\":{\"fill\":{\"color\":\"#C8D4E3\"},\"line\":{\"color\":\"white\"}},\"type\":\"table\"}],\"barpolar\":[{\"marker\":{\"line\":{\"color\":\"#E5ECF6\",\"width\":0.5},\"pattern\":{\"fillmode\":\"overlay\",\"size\":10,\"solidity\":0.2}},\"type\":\"barpolar\"}],\"pie\":[{\"automargin\":true,\"type\":\"pie\"}]},\"layout\":{\"autotypenumbers\":\"strict\",\"colorway\":[\"#636efa\",\"#EF553B\",\"#00cc96\",\"#ab63fa\",\"#FFA15A\",\"#19d3f3\",\"#FF6692\",\"#B6E880\",\"#FF97FF\",\"#FECB52\"],\"font\":{\"color\":\"#2a3f5f\"},\"hovermode\":\"closest\",\"hoverlabel\":{\"align\":\"left\"},\"paper_bgcolor\":\"white\",\"plot_bgcolor\":\"#E5ECF6\",\"polar\":{\"bgcolor\":\"#E5ECF6\",\"angularaxis\":{\"gridcolor\":\"white\",\"linecolor\":\"white\",\"ticks\":\"\"},\"radialaxis\":{\"gridcolor\":\"white\",\"linecolor\":\"white\",\"ticks\":\"\"}},\"ternary\":{\"bgcolor\":\"#E5ECF6\",\"aaxis\":{\"gridcolor\":\"white\",\"linecolor\":\"white\",\"ticks\":\"\"},\"baxis\":{\"gridcolor\":\"white\",\"linecolor\":\"white\",\"ticks\":\"\"},\"caxis\":{\"gridcolor\":\"white\",\"linecolor\":\"white\",\"ticks\":\"\"}},\"coloraxis\":{\"colorbar\":{\"outlinewidth\":0,\"ticks\":\"\"}},\"colorscale\":{\"sequential\":[[0.0,\"#0d0887\"],[0.1111111111111111,\"#46039f\"],[0.2222222222222222,\"#7201a8\"],[0.3333333333333333,\"#9c179e\"],[0.4444444444444444,\"#bd3786\"],[0.5555555555555556,\"#d8576b\"],[0.6666666666666666,\"#ed7953\"],[0.7777777777777778,\"#fb9f3a\"],[0.8888888888888888,\"#fdca26\"],[1.0,\"#f0f921\"]],\"sequentialminus\":[[0.0,\"#0d0887\"],[0.1111111111111111,\"#46039f\"],[0.2222222222222222,\"#7201a8\"],[0.3333333333333333,\"#9c179e\"],[0.4444444444444444,\"#bd3786\"],[0.5555555555555556,\"#d8576b\"],[0.6666666666666666,\"#ed7953\"],[0.7777777777777778,\"#fb9f3a\"],[0.8888888888888888,\"#fdca26\"],[1.0,\"#f0f921\"]],\"diverging\":[[0,\"#8e0152\"],[0.1,\"#c51b7d\"],[0.2,\"#de77ae\"],[0.3,\"#f1b6da\"],[0.4,\"#fde0ef\"],[0.5,\"#f7f7f7\"],[0.6,\"#e6f5d0\"],[0.7,\"#b8e186\"],[0.8,\"#7fbc41\"],[0.9,\"#4d9221\"],[1,\"#276419\"]]},\"xaxis\":{\"gridcolor\":\"white\",\"linecolor\":\"white\",\"ticks\":\"\",\"title\":{\"standoff\":15},\"zerolinecolor\":\"white\",\"automargin\":true,\"zerolinewidth\":2},\"yaxis\":{\"gridcolor\":\"white\",\"linecolor\":\"white\",\"ticks\":\"\",\"title\":{\"standoff\":15},\"zerolinecolor\":\"white\",\"automargin\":true,\"zerolinewidth\":2},\"scene\":{\"xaxis\":{\"backgroundcolor\":\"#E5ECF6\",\"gridcolor\":\"white\",\"linecolor\":\"white\",\"showbackground\":true,\"ticks\":\"\",\"zerolinecolor\":\"white\",\"gridwidth\":2},\"yaxis\":{\"backgroundcolor\":\"#E5ECF6\",\"gridcolor\":\"white\",\"linecolor\":\"white\",\"showbackground\":true,\"ticks\":\"\",\"zerolinecolor\":\"white\",\"gridwidth\":2},\"zaxis\":{\"backgroundcolor\":\"#E5ECF6\",\"gridcolor\":\"white\",\"linecolor\":\"white\",\"showbackground\":true,\"ticks\":\"\",\"zerolinecolor\":\"white\",\"gridwidth\":2}},\"shapedefaults\":{\"line\":{\"color\":\"#2a3f5f\"}},\"annotationdefaults\":{\"arrowcolor\":\"#2a3f5f\",\"arrowhead\":0,\"arrowwidth\":1},\"geo\":{\"bgcolor\":\"white\",\"landcolor\":\"#E5ECF6\",\"subunitcolor\":\"white\",\"showland\":true,\"showlakes\":true,\"lakecolor\":\"white\"},\"title\":{\"x\":0.05},\"mapbox\":{\"style\":\"light\"}}},\"xaxis\":{\"anchor\":\"y\",\"domain\":[0.0,1.0],\"title\":{\"text\":\"error\"}},\"yaxis\":{\"anchor\":\"x\",\"domain\":[0.0,1.0],\"title\":{\"text\":\"count\"}},\"legend\":{\"tracegroupgap\":0},\"margin\":{\"t\":60},\"barmode\":\"relative\",\"width\":800},                        {\"responsive\": true}                    ).then(function(){\n",
              "                            \n",
              "var gd = document.getElementById('60136ec0-a163-4a69-82bf-7fc4c3d156c0');\n",
              "var x = new MutationObserver(function (mutations, observer) {{\n",
              "        var display = window.getComputedStyle(gd).display;\n",
              "        if (!display || display === 'none') {{\n",
              "            console.log([gd, 'removed!']);\n",
              "            Plotly.purge(gd);\n",
              "            observer.disconnect();\n",
              "        }}\n",
              "}});\n",
              "\n",
              "// Listen for the removal of the full notebook cells\n",
              "var notebookContainer = gd.closest('#notebook-container');\n",
              "if (notebookContainer) {{\n",
              "    x.observe(notebookContainer, {childList: true});\n",
              "}}\n",
              "\n",
              "// Listen for the clearing of the current output cell\n",
              "var outputEl = gd.closest('.output');\n",
              "if (outputEl) {{\n",
              "    x.observe(outputEl, {childList: true});\n",
              "}}\n",
              "\n",
              "                        })                };                            </script>        </div>\n",
              "</body>\n",
              "</html>"
            ]
          },
          "metadata": {}
        }
      ]
    },
    {
      "cell_type": "code",
      "source": [
        "def mean_absolut_error(y_true, y_pred):\n",
        "  return abs(y_true - y_pred).sum() / len(y_true)\n",
        "\n",
        "mean_absolut_error(y_true, y_pred)"
      ],
      "metadata": {
        "colab": {
          "base_uri": "https://localhost:8080/"
        },
        "id": "K8V2d4VkO0HF",
        "outputId": "ea7605f5-4187-43c0-9982-4a7616dda9d7"
      },
      "execution_count": 11,
      "outputs": [
        {
          "output_type": "execute_result",
          "data": {
            "text/plain": [
              "15.821652126570326"
            ]
          },
          "metadata": {},
          "execution_count": 11
        }
      ]
    },
    {
      "cell_type": "code",
      "source": [
        "from sklearn.metrics import mean_absolute_error\n",
        "\n",
        "mean_absolute_error(y_true, y_pred)"
      ],
      "metadata": {
        "colab": {
          "base_uri": "https://localhost:8080/"
        },
        "id": "ZAlQTs3oQL6y",
        "outputId": "5b06fc79-9266-4698-9ca6-7c00741c55d4"
      },
      "execution_count": 12,
      "outputs": [
        {
          "output_type": "execute_result",
          "data": {
            "text/plain": [
              "15.821652126570326"
            ]
          },
          "metadata": {},
          "execution_count": 12
        }
      ]
    },
    {
      "cell_type": "code",
      "source": [
        "def mean_squared_error(y_true, y_pred):\n",
        "  return ((y_true - y_pred) ** 2).sum() / len(y_true)\n",
        "\n",
        "\n",
        "mean_squared_error(y_pred, y_true)"
      ],
      "metadata": {
        "colab": {
          "base_uri": "https://localhost:8080/"
        },
        "id": "ycHoi6-CWjLV",
        "outputId": "8d41f0e5-e472-4359-ebb5-93ac326bcc8a"
      },
      "execution_count": 13,
      "outputs": [
        {
          "output_type": "execute_result",
          "data": {
            "text/plain": [
              "400.3666243082725"
            ]
          },
          "metadata": {},
          "execution_count": 13
        }
      ]
    },
    {
      "cell_type": "code",
      "source": [
        "from sklearn.metrics import  mean_squared_error\n",
        "\n",
        "mean_squared_error(y_true, y_pred)"
      ],
      "metadata": {
        "colab": {
          "base_uri": "https://localhost:8080/"
        },
        "id": "jQhIWtYOXPu2",
        "outputId": "f286859a-24c2-42e3-e4f0-20fedfa09747"
      },
      "execution_count": 14,
      "outputs": [
        {
          "output_type": "execute_result",
          "data": {
            "text/plain": [
              "400.3666243082725"
            ]
          },
          "metadata": {},
          "execution_count": 14
        }
      ]
    },
    {
      "cell_type": "code",
      "source": [
        "def root_squared_error(y_true, y_pred):\n",
        "  return np.sqrt(((y_true - y_pred) ** 2).sum() / len(y_true))\n",
        "\n",
        "root_squared_error(y_true, y_pred)"
      ],
      "metadata": {
        "colab": {
          "base_uri": "https://localhost:8080/"
        },
        "id": "S6IGqACqXfa6",
        "outputId": "91af8465-9a63-4d45-bf8f-01a21851a654"
      },
      "execution_count": 15,
      "outputs": [
        {
          "output_type": "execute_result",
          "data": {
            "text/plain": [
              "20.00916350845963"
            ]
          },
          "metadata": {},
          "execution_count": 15
        }
      ]
    },
    {
      "cell_type": "code",
      "source": [
        "np.sqrt(mean_squared_error(y_pred, y_true))\n",
        "\n"
      ],
      "metadata": {
        "colab": {
          "base_uri": "https://localhost:8080/"
        },
        "id": "8D0Xcde2Xvrp",
        "outputId": "4d473d5c-f714-4a60-83b7-83454c44378d"
      },
      "execution_count": 16,
      "outputs": [
        {
          "output_type": "execute_result",
          "data": {
            "text/plain": [
              "20.00916350845963"
            ]
          },
          "metadata": {},
          "execution_count": 16
        }
      ]
    },
    {
      "cell_type": "code",
      "source": [
        "def max_error(y_true, y_pred):\n",
        "  return abs(y_true - y_pred).max()\n",
        "\n",
        "max_error(y_true, y_pred)"
      ],
      "metadata": {
        "colab": {
          "base_uri": "https://localhost:8080/"
        },
        "id": "ERnAcGw9YxFH",
        "outputId": "edc9d5f7-4d4a-4943-cd74-5d61c5f98579"
      },
      "execution_count": 17,
      "outputs": [
        {
          "output_type": "execute_result",
          "data": {
            "text/plain": [
              "63.8621513568972"
            ]
          },
          "metadata": {},
          "execution_count": 17
        }
      ]
    },
    {
      "cell_type": "code",
      "source": [
        "from sklearn.metrics import max_error\n",
        "\n",
        "max_error(y_true, y_pred)"
      ],
      "metadata": {
        "colab": {
          "base_uri": "https://localhost:8080/"
        },
        "id": "mo5f2jEnYdXF",
        "outputId": "cfe639ba-d04f-44c3-eff4-5a71e6fb8333"
      },
      "execution_count": 18,
      "outputs": [
        {
          "output_type": "execute_result",
          "data": {
            "text/plain": [
              "63.8621513568972"
            ]
          },
          "metadata": {},
          "execution_count": 18
        }
      ]
    },
    {
      "cell_type": "code",
      "source": [
        "from sklearn.metrics import r2_score\n",
        "\n",
        "r2_score(y_true, y_pred)"
      ],
      "metadata": {
        "colab": {
          "base_uri": "https://localhost:8080/"
        },
        "id": "b1EKmcPOZHmq",
        "outputId": "f1c7d036-96d1-4faf-fffa-6bce6b800992"
      },
      "execution_count": 19,
      "outputs": [
        {
          "output_type": "execute_result",
          "data": {
            "text/plain": [
              "-0.036774264350666996"
            ]
          },
          "metadata": {},
          "execution_count": 19
        }
      ]
    },
    {
      "cell_type": "code",
      "source": [
        "def r2_score(y_true, y_pred):\n",
        "  numerator = ((y_true - y_pred) ** 2).sum()\n",
        "  denominator = ((y_true - y_pred.mean()) ** 2).sum()\n",
        "  try:\n",
        "    r2 = 1 - numerator /denominator\n",
        "  except ZeroDivisionError:\n",
        "    print('Dzieleni eprzez 0')\n",
        "  return r2\n",
        "\n",
        "\n",
        "r2_score(y_true, y_pred)"
      ],
      "metadata": {
        "colab": {
          "base_uri": "https://localhost:8080/"
        },
        "id": "PMw_w_euZRrp",
        "outputId": "2de4be94-17a4-4f29-8904-a7218e34ef03"
      },
      "execution_count": 20,
      "outputs": [
        {
          "output_type": "execute_result",
          "data": {
            "text/plain": [
              "-0.03473135710403996"
            ]
          },
          "metadata": {},
          "execution_count": 20
        }
      ]
    }
  ]
}